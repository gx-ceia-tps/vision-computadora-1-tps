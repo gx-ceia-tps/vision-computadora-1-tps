{
 "cells": [
  {
   "metadata": {},
   "cell_type": "markdown",
   "source": [
    "## Vision por computadora 1 - FIUBA\n",
    "### Parte 1\n",
    "#### Implementar el algoritmo de pasaje a coordenadas cromáticas para librarnos de las variaciones de constraste.\n",
    "#### Implementar el algoritmo de White Patch para librarnos de las diferencias de color de iluminación"
   ],
   "id": "105100756ec5d5a2"
  },
  {
   "cell_type": "code",
   "execution_count": null,
   "id": "initial_id",
   "metadata": {
    "collapsed": true
   },
   "outputs": [],
   "source": [
    ""
   ]
  }
 ],
 "metadata": {
  "kernelspec": {
   "display_name": "Python 3",
   "language": "python",
   "name": "python3"
  },
  "language_info": {
   "codemirror_mode": {
    "name": "ipython",
    "version": 2
   },
   "file_extension": ".py",
   "mimetype": "text/x-python",
   "name": "python",
   "nbconvert_exporter": "python",
   "pygments_lexer": "ipython2",
   "version": "2.7.6"
  }
 },
 "nbformat": 4,
 "nbformat_minor": 5
}
